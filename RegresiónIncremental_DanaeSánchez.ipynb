{
 "cells": [
  {
   "cell_type": "markdown",
   "metadata": {},
   "source": [
    "# Regresión Lineal Incremental "
   ]
  },
  {
   "cell_type": "markdown",
   "metadata": {},
   "source": [
    "Danae Sánchez Villegas 136040\n"
   ]
  },
  {
   "cell_type": "markdown",
   "metadata": {},
   "source": [
    "# Descripción"
   ]
  },
  {
   "cell_type": "markdown",
   "metadata": {},
   "source": [
    "Implementación del algoritmo de regresión lineal incremental\n",
    "\n",
    "Pasos:\n",
    "\n",
    "Bajar el archivo regLin.xls \n",
    "\n",
    "Escalar los datos usando el StandardScaler \n",
    "\n",
    "Programar la regresión lineal incremental\n",
    "\n",
    "Graficar el modelo "
   ]
  },
  {
   "cell_type": "code",
   "execution_count": 1,
   "metadata": {
    "collapsed": true
   },
   "outputs": [],
   "source": [
    "import pandas as pd\n",
    "import numpy as np\n",
    "import csv\n",
    "import random\n",
    "from sklearn.cross_validation import train_test_split\n",
    "from sklearn.linear_model import LinearRegression\n",
    "import matplotlib.pyplot as plt\n",
    "%matplotlib inline"
   ]
  },
  {
   "cell_type": "markdown",
   "metadata": {},
   "source": [
    "# Funciones"
   ]
  },
  {
   "cell_type": "code",
   "execution_count": 2,
   "metadata": {
    "collapsed": false
   },
   "outputs": [],
   "source": [
    "def salida(x,w0,W):\n",
    "    sum=0\n",
    "    for i in range(len(x)):\n",
    "        sum=sum+x[i]*W[i]\n",
    "    sum=sum+w0\n",
    "    return sum\n",
    " \n",
    "def entrena(X,w0,W,y,n):\n",
    "    \n",
    "    nu=0.01\n",
    "    \n",
    "    for i in range(n):\n",
    "        error=y[i]-salida(X[i],w0,W)\n",
    "        w0=w0+nu*error\n",
    "            \n",
    "        for j in range(len(X[i])):\n",
    "            W[j]=W[j]+nu*(error*X[i][j])\n",
    "    \n",
    "    return w0,W\n",
    "\n",
    "\n",
    "def errorPorTupla(X,y,w0,W):\n",
    "    i=0\n",
    "    suma=0.0\n",
    "    for x in X:\n",
    "        suma= suma + ((x.dot(W) +w0) -y[i])**2\n",
    "        i=i+1\n",
    "    return suma/i\n",
    "\n"
   ]
  },
  {
   "cell_type": "markdown",
   "metadata": {},
   "source": [
    "# Regresión Lineal Iterativa"
   ]
  },
  {
   "cell_type": "markdown",
   "metadata": {},
   "source": [
    "# Importar Datos"
   ]
  },
  {
   "cell_type": "code",
   "execution_count": 3,
   "metadata": {
    "collapsed": true
   },
   "outputs": [],
   "source": [
    "dia = csv.excel()\n",
    "df = pd.read_csv(\"regLin.csv\")"
   ]
  },
  {
   "cell_type": "code",
   "execution_count": 4,
   "metadata": {
    "collapsed": false
   },
   "outputs": [],
   "source": [
    " X_train, X_test, Y_train, Y_test = train_test_split(df[['X']],df[['y']], train_size=0.75)\n"
   ]
  },
  {
   "cell_type": "markdown",
   "metadata": {},
   "source": [
    "#Normalizar "
   ]
  },
  {
   "cell_type": "code",
   "execution_count": 5,
   "metadata": {
    "collapsed": false
   },
   "outputs": [],
   "source": [
    "from sklearn import preprocessing\n",
    "scaleX=preprocessing.StandardScaler()\n",
    "scaleY=preprocessing.StandardScaler()\n",
    "\n",
    "#normalizar datos de entrenamiento \n",
    "scaleX.fit(X_train)\n",
    "X_train=scaleX.transform(X_train)\n",
    "scaleY.fit(Y_train)\n",
    "Y_train=scaleY.transform(Y_train)\n",
    "\n",
    "#normalizar datos de prueba\n",
    "scaleX.fit(X_test)\n",
    "X_test=scaleX.transform(X_test)\n",
    "scaleY.fit(Y_test)\n",
    "Y_test=scaleY.transform(Y_test)\n"
   ]
  },
  {
   "cell_type": "markdown",
   "metadata": {},
   "source": [
    "# Probar"
   ]
  },
  {
   "cell_type": "code",
   "execution_count": 6,
   "metadata": {
    "collapsed": false
   },
   "outputs": [],
   "source": [
    "W=[random.random() for i in range(len(X_test[0]))]\n",
    "w0=random.random()"
   ]
  },
  {
   "cell_type": "code",
   "execution_count": 8,
   "metadata": {
    "collapsed": false
   },
   "outputs": [],
   "source": [
    "for i in range(100):\n",
    "    w0,W=entrena(np.asarray(X_test),w0,W,np.asarray(Y_test),len(X_test))\n",
    "\n",
    "error=errorPorTupla(np.asarray(X_test),np.asarray(Y_test),w0[0],W)\n"
   ]
  },
  {
   "cell_type": "code",
   "execution_count": 9,
   "metadata": {
    "collapsed": false
   },
   "outputs": [
    {
     "data": {
      "text/plain": [
       "array([ 0.0127841])"
      ]
     },
     "execution_count": 9,
     "metadata": {},
     "output_type": "execute_result"
    }
   ],
   "source": [
    "w0"
   ]
  },
  {
   "cell_type": "code",
   "execution_count": 10,
   "metadata": {
    "collapsed": false
   },
   "outputs": [
    {
     "data": {
      "text/plain": [
       "[array([ 0.96879241])]"
      ]
     },
     "execution_count": 10,
     "metadata": {},
     "output_type": "execute_result"
    }
   ],
   "source": [
    "W"
   ]
  },
  {
   "cell_type": "code",
   "execution_count": 11,
   "metadata": {
    "collapsed": false
   },
   "outputs": [
    {
     "data": {
      "text/plain": [
       "array([ 0.05396621])"
      ]
     },
     "execution_count": 11,
     "metadata": {},
     "output_type": "execute_result"
    }
   ],
   "source": [
    "error"
   ]
  },
  {
   "cell_type": "markdown",
   "metadata": {},
   "source": [
    "# Modelo"
   ]
  },
  {
   "cell_type": "code",
   "execution_count": 12,
   "metadata": {
    "collapsed": false
   },
   "outputs": [
    {
     "data": {
      "text/plain": [
       "[<matplotlib.lines.Line2D at 0x183894e0>]"
      ]
     },
     "execution_count": 12,
     "metadata": {},
     "output_type": "execute_result"
    },
    {
     "data": {
      "image/png": "[encoded data removed]",
      "text/plain": [
       "<matplotlib.figure.Figure at 0x183895c0>"
      ]
     },
     "metadata": {},
     "output_type": "display_data"
    }
   ],
   "source": [
    "plt.scatter(X_test,Y_test)\n",
    "x = np.linspace(np.asarray(X_test).min(),np.asarray(X_test).max(),100) # 100 numeros espaciados\n",
    "plt.plot(np.array(x),(np.asarray(x)*W[0]+w0[0]),color='red')"
   ]
  },
  {
   "cell_type": "markdown",
   "metadata": {},
   "source": [
    "# Conclusiones\n"
   ]
  },
  {
   "cell_type": "markdown",
   "metadata": {},
   "source": [
    "La regresión Lineal Incremental es buena cuando se necesitan agregar constantemente\n",
    "nuevos valores, ya que puede resultar muy cotoso reentrenar a todo el conjunto de\n",
    "datos.\n",
    "Es importante hacer el escalamiento y la división de los conjuntos de entrenamiento y\n",
    "prueba para obtener resulrados razonables."
   ]
  },
  {
   "cell_type": "code",
   "execution_count": null,
   "metadata": {
    "collapsed": true
   },
   "outputs": [],
   "source": []
  }
 ],
 "metadata": {
  "kernelspec": {
   "display_name": "Python 2",
   "language": "python",
   "name": "python2"
  },
  "language_info": {
   "codemirror_mode": {
    "name": "ipython",
    "version": 2
   },
   "file_extension": ".py",
   "mimetype": "text/x-python",
   "name": "python",
   "nbconvert_exporter": "python",
   "pygments_lexer": "ipython2",
   "version": "2.7.10"
  }
 },
 "nbformat": 4,
 "nbformat_minor": 0
}
