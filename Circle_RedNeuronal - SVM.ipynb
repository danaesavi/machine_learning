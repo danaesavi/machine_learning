{
 "cells": [
  {
   "cell_type": "markdown",
   "metadata": {},
   "source": [
    "#Círculo"
   ]
  },
  {
   "cell_type": "code",
   "execution_count": 71,
   "metadata": {
    "collapsed": true
   },
   "outputs": [],
   "source": [
    "from pybrain.tools.shortcuts import buildNetwork \n",
    "from pybrain.datasets import SupervisedDataSet\n",
    "from pybrain.supervised.trainers import BackpropTrainer\n",
    "import csv\n",
    "import pandas as pd\n",
    "import matplotlib.pyplot as plt\n",
    "%matplotlib inline"
   ]
  },
  {
   "cell_type": "code",
   "execution_count": 72,
   "metadata": {
    "collapsed": false
   },
   "outputs": [],
   "source": [
    "dia = csv.excel()\n",
    "df = pd.read_csv(\"circle.csv\")\n"
   ]
  },
  {
   "cell_type": "code",
   "execution_count": 73,
   "metadata": {
    "collapsed": true
   },
   "outputs": [],
   "source": [
    " X,Y = df[['X','Y']],df[['T']]"
   ]
  },
  {
   "cell_type": "code",
   "execution_count": null,
   "metadata": {
    "collapsed": false
   },
   "outputs": [],
   "source": [
    "error= [0 for k in range (6)]\n",
    "ds= SupervisedDataSet(2, 1)\n",
    "ds.setField('input', X)\n",
    "ds.setField('target', Y) \n",
    "\n",
    "for j in range(1,7):\n",
    "    net = buildNetwork(2, j, 1)\n",
    "      \n",
    "    trainer = BackpropTrainer(net, ds) \n",
    "    for i in range(300):\n",
    "        error[j-1]=trainer.train()"
   ]
  },
  {
   "cell_type": "markdown",
   "metadata": {},
   "source": [
    "#Error vs No. HN"
   ]
  },
  {
   "cell_type": "code",
   "execution_count": null,
   "metadata": {
    "collapsed": false
   },
   "outputs": [],
   "source": [
    "complejidad=[i for i in range(1,7)]\n",
    "plt.scatter(complejidad,error)"
   ]
  },
  {
   "cell_type": "markdown",
   "metadata": {},
   "source": [
    "#Gráfica del Círculo"
   ]
  },
  {
   "cell_type": "code",
   "execution_count": 59,
   "metadata": {
    "collapsed": false
   },
   "outputs": [
    {
     "data": {
      "image/png": "[encoded data removed]",
      "text/plain": [
       "<matplotlib.figure.Figure at 0x14b22a58>"
      ]
     },
     "metadata": {},
     "output_type": "display_data"
    }
   ],
   "source": [
    "import pylab\n",
    "plt.scatter(df[['X']],df[['Y']],color='red')\n",
    "axes = pylab.axes()\n",
    "circle1 = pylab.Circle((0.5,0.5), radius=0.5, alpha=.5)\n",
    "\n",
    "axes.add_patch(circle1)\n",
    "\n",
    "pylab.axis('scaled')\n",
    "pylab.show()\n"
   ]
  },
  {
   "cell_type": "markdown",
   "metadata": {},
   "source": [
    "#Matriz de Confusión  "
   ]
  },
  {
   "cell_type": "code",
   "execution_count": null,
   "metadata": {
    "collapsed": false
   },
   "outputs": [],
   "source": [
    "import numpy as np\n",
    "t_pred=[round(net.activate(np.asarray(X)[i])) for i in range(len(X))]"
   ]
  },
  {
   "cell_type": "code",
   "execution_count": null,
   "metadata": {
    "collapsed": false
   },
   "outputs": [],
   "source": [
    "from sklearn.metrics import confusion_matrix\n",
    "confusion_matrix(np.asarray(Y),t_pred)\n",
    "                    "
   ]
  },
  {
   "cell_type": "markdown",
   "metadata": {},
   "source": [
    "#ROC"
   ]
  },
  {
   "cell_type": "code",
   "execution_count": 62,
   "metadata": {
    "collapsed": true
   },
   "outputs": [],
   "source": [
    "from sklearn.metrics import roc_curve, auc\n",
    "import matplotlib.pyplot as plt\n",
    "import random\n",
    "\n",
    "actual = np.asarray(Y)\n",
    "predictions =[net.activate(np.asarray(X)[i]) for i in range(len(X))]\n",
    "false_positive_rate, true_positive_rate, thresholds = roc_curve(actual, predictions)\n",
    "roc_auc = auc(false_positive_rate, true_positive_rate)"
   ]
  },
  {
   "cell_type": "code",
   "execution_count": 63,
   "metadata": {
    "collapsed": false
   },
   "outputs": [
    {
     "data": {
      "image/png": "[encoded data removed]",
      "text/plain": [
       "<matplotlib.figure.Figure at 0x143c5ac8>"
      ]
     },
     "metadata": {},
     "output_type": "display_data"
    }
   ],
   "source": [
    "plt.title('ROC')\n",
    "plt.plot(false_positive_rate, true_positive_rate, 'b',\n",
    "label='AUC = %0.2f'% roc_auc)\n",
    "plt.legend(loc='lower right')\n",
    "plt.plot([0,1],[0,1],'r--')\n",
    "plt.xlim([-0.1,1.2])\n",
    "plt.ylim([-0.1,1.2])\n",
    "plt.ylabel('TPR')\n",
    "plt.xlabel('FPR')\n",
    "plt.show()"
   ]
  },
  {
   "cell_type": "code",
   "execution_count": 64,
   "metadata": {
    "collapsed": false
   },
   "outputs": [
    {
     "data": {
      "text/plain": [
       "1.0"
      ]
     },
     "execution_count": 64,
     "metadata": {},
     "output_type": "execute_result"
    }
   ],
   "source": [
    "roc_auc"
   ]
  },
  {
   "cell_type": "markdown",
   "metadata": {},
   "source": [
    "#Ejercicio ROC"
   ]
  },
  {
   "cell_type": "code",
   "execution_count": 12,
   "metadata": {
    "collapsed": false
   },
   "outputs": [],
   "source": [
    "from sklearn.metrics import roc_curve, auc, confusion_matrix\n",
    "import matplotlib.pyplot as plt\n",
    "import random\n",
    "dia = csv.excel()\n",
    "df = pd.read_csv(\"EjercicioROC.csv\")\n",
    "predictions,actual = df[['Calificacion']],df[['Categoria Real (1=Fraude, 0=NoFraude)']]"
   ]
  },
  {
   "cell_type": "code",
   "execution_count": 13,
   "metadata": {
    "collapsed": false
   },
   "outputs": [],
   "source": [
    "false_positive_rate, true_positive_rate, thresholds = roc_curve(actual, predictions)\n",
    "roc_auc = auc(false_positive_rate, true_positive_rate)"
   ]
  },
  {
   "cell_type": "code",
   "execution_count": 14,
   "metadata": {
    "collapsed": false
   },
   "outputs": [
    {
     "data": {
      "image/png": "[encoded data removed]",
      "text/plain": [
       "<matplotlib.figure.Figure at 0x16dff0b8>"
      ]
     },
     "metadata": {},
     "output_type": "display_data"
    }
   ],
   "source": [
    "plt.title('ROC')\n",
    "plt.plot(false_positive_rate, true_positive_rate, 'b',\n",
    "label='AUC = %0.2f'% roc_auc)\n",
    "plt.legend(loc='lower right')\n",
    "plt.plot([0,1],[0,1],'r--')\n",
    "plt.xlim([-0.1,1.2])\n",
    "plt.ylim([-0.1,1.2])\n",
    "plt.ylabel('TPR')\n",
    "plt.xlabel('FPR')\n",
    "plt.show()"
   ]
  },
  {
   "cell_type": "code",
   "execution_count": 15,
   "metadata": {
    "collapsed": false
   },
   "outputs": [],
   "source": [
    "import numpy as np\n",
    "predictions=[round(np.asarray(df[['Calificacion']])[i]) for i in range(len(np.asarray(df[['Calificacion']])))]"
   ]
  },
  {
   "cell_type": "code",
   "execution_count": 16,
   "metadata": {
    "collapsed": false
   },
   "outputs": [
    {
     "data": {
      "text/plain": [
       "array([[10028,     0],\n",
       "       [   88,     0]])"
      ]
     },
     "execution_count": 16,
     "metadata": {},
     "output_type": "execute_result"
    }
   ],
   "source": [
    "confusion_matrix(actual,predictions)"
   ]
  },
  {
   "cell_type": "code",
   "execution_count": 17,
   "metadata": {
    "collapsed": false
   },
   "outputs": [
    {
     "data": {
      "text/plain": [
       "0.5"
      ]
     },
     "execution_count": 17,
     "metadata": {},
     "output_type": "execute_result"
    }
   ],
   "source": [
    "from sklearn.metrics import roc_auc_score\n",
    "roc_auc_score(actual,predictions)"
   ]
  },
  {
   "cell_type": "markdown",
   "metadata": {},
   "source": [
    "# SVM"
   ]
  },
  {
   "cell_type": "code",
   "execution_count": 61,
   "metadata": {
    "collapsed": true
   },
   "outputs": [],
   "source": [
    "import csv\n",
    "import pandas as pd\n",
    "import matplotlib.pyplot as plt\n",
    "%matplotlib inline\n",
    "from sklearn.svm import SVC"
   ]
  },
  {
   "cell_type": "code",
   "execution_count": 62,
   "metadata": {
    "collapsed": true
   },
   "outputs": [],
   "source": [
    "dia = csv.excel()\n",
    "df = pd.read_csv(\"circle.csv\")\n",
    "X,actual = df[['X','Y']],df[['T']]"
   ]
  },
  {
   "cell_type": "code",
   "execution_count": 63,
   "metadata": {
    "collapsed": false
   },
   "outputs": [
    {
     "name": "stderr",
     "output_type": "stream",
     "text": [
      "C:\\Anaconda\\lib\\site-packages\\sklearn\\svm\\base.py:472: DataConversionWarning: A column-vector y was passed when a 1d array was expected. Please change the shape of y to (n_samples, ), for example using ravel().\n",
      "  y_ = column_or_1d(y, warn=True)\n"
     ]
    },
    {
     "data": {
      "text/plain": [
       "SVC(C=10, cache_size=200, class_weight=None, coef0=0.0, degree=3, gamma=0.0,\n",
       "  kernel='rbf', max_iter=-1, probability=False, random_state=None,\n",
       "  shrinking=True, tol=0.001, verbose=False)"
      ]
     },
     "execution_count": 63,
     "metadata": {},
     "output_type": "execute_result"
    }
   ],
   "source": [
    "clf = SVC(C=10,kernel='rbf')\n",
    "clf.fit(X, actual) "
   ]
  },
  {
   "cell_type": "code",
   "execution_count": 64,
   "metadata": {
    "collapsed": false
   },
   "outputs": [
    {
     "data": {
      "text/plain": [
       "array([[ 0.54734818,  0.91033737],\n",
       "       [ 0.76419851,  0.64693395],\n",
       "       [ 0.88832861,  0.50680447],\n",
       "       [ 0.84714824,  0.56561148],\n",
       "       [ 0.99378636,  0.38114245],\n",
       "       [ 0.91781604,  0.41731483],\n",
       "       [ 0.5754396 ,  0.88188902],\n",
       "       [ 0.98703168,  0.25268553],\n",
       "       [ 0.9362941 ,  0.47928296],\n",
       "       [ 0.82777496,  0.58278715],\n",
       "       [ 0.7099503 ,  0.72116092],\n",
       "       [ 0.5307481 ,  0.85457681],\n",
       "       [ 0.43039641,  0.95454702],\n",
       "       [ 0.67700638,  0.73818837],\n",
       "       [ 0.41211218,  0.96007409],\n",
       "       [ 0.96990675,  0.40204529],\n",
       "       [ 0.75977522,  0.7137949 ],\n",
       "       [ 0.34805154,  0.99511213],\n",
       "       [ 0.58930549,  0.87548302],\n",
       "       [ 0.93341296,  0.41853176],\n",
       "       [ 0.25279508,  0.99255019],\n",
       "       [ 0.58477572,  0.84915752],\n",
       "       [ 0.96053471,  0.38036953],\n",
       "       [ 0.13980329,  0.99280114],\n",
       "       [ 0.96399844,  0.28501539],\n",
       "       [ 0.58352735,  0.86131029],\n",
       "       [ 0.24314579,  0.99891842],\n",
       "       [ 0.96541451,  0.34433358],\n",
       "       [ 0.53943543,  0.90642946],\n",
       "       [ 0.93966825,  0.46627138],\n",
       "       [ 0.86683092,  0.54237564],\n",
       "       [ 0.10571052,  0.99789024],\n",
       "       [ 0.97723328,  0.39405484],\n",
       "       [ 0.67121318,  0.78808647],\n",
       "       [ 0.64937895,  0.77629485],\n",
       "       [ 0.72081566,  0.71479273],\n",
       "       [ 0.63671322,  0.79964244],\n",
       "       [ 0.99457839,  0.32235485],\n",
       "       [ 0.9685918 ,  0.33423448],\n",
       "       [ 0.73300714,  0.73670962],\n",
       "       [ 0.37638419,  0.95497543],\n",
       "       [ 0.25146416,  0.94652518],\n",
       "       [ 0.90731895,  0.31642001],\n",
       "       [ 0.78035926,  0.57666759],\n",
       "       [ 0.90918709,  0.30722777],\n",
       "       [ 0.26269697,  0.95513866],\n",
       "       [ 0.87337557,  0.47117107],\n",
       "       [ 0.59330099,  0.73418976],\n",
       "       [ 0.88785205,  0.40238012],\n",
       "       [ 0.39916319,  0.87536949],\n",
       "       [ 0.55711197,  0.78606155],\n",
       "       [ 0.94485974,  0.27558752],\n",
       "       [ 0.66675481,  0.69322907],\n",
       "       [ 0.86898115,  0.41462206],\n",
       "       [ 0.49921078,  0.82034925],\n",
       "       [ 0.63917214,  0.74267441],\n",
       "       [ 0.48533026,  0.864097  ],\n",
       "       [ 0.68218872,  0.6543347 ],\n",
       "       [ 0.31853911,  0.93876582],\n",
       "       [ 0.45686482,  0.8634885 ],\n",
       "       [ 0.69532074,  0.71395262],\n",
       "       [ 0.48221697,  0.87076549],\n",
       "       [ 0.96628249,  0.25457492],\n",
       "       [ 0.4185786 ,  0.8590259 ],\n",
       "       [ 0.77557124,  0.61448156],\n",
       "       [ 0.93601559,  0.27527089],\n",
       "       [ 0.82923369,  0.5290273 ],\n",
       "       [ 0.24400737,  0.95742889],\n",
       "       [ 0.66554742,  0.67575602],\n",
       "       [ 0.34747677,  0.9144032 ],\n",
       "       [ 0.96016519,  0.24750706],\n",
       "       [ 0.42815066,  0.87347073],\n",
       "       [ 0.64797989,  0.74782022],\n",
       "       [ 0.86578595,  0.38756611],\n",
       "       [ 0.82555929,  0.47074516],\n",
       "       [ 0.60558636,  0.71242755],\n",
       "       [ 0.71468848,  0.67208661],\n",
       "       [ 0.77288266,  0.59606639],\n",
       "       [ 0.55294779,  0.80235443],\n",
       "       [ 0.62759924,  0.72751184],\n",
       "       [ 0.96850157,  0.23861491],\n",
       "       [ 0.36462893,  0.93093797],\n",
       "       [ 0.71247791,  0.68739628]])"
      ]
     },
     "execution_count": 64,
     "metadata": {},
     "output_type": "execute_result"
    }
   ],
   "source": [
    "clf.support_vectors_"
   ]
  },
  {
   "cell_type": "code",
   "execution_count": 65,
   "metadata": {
    "collapsed": false
   },
   "outputs": [],
   "source": [
    "import numpy as np\n",
    "t_pred=[round(clf.predict(np.asarray(X)[i])) for i in range(len(X))]"
   ]
  },
  {
   "cell_type": "code",
   "execution_count": 67,
   "metadata": {
    "collapsed": false
   },
   "outputs": [
    {
     "data": {
      "text/plain": [
       "array([[120,   7],\n",
       "       [  3, 476]])"
      ]
     },
     "execution_count": 67,
     "metadata": {},
     "output_type": "execute_result"
    }
   ],
   "source": [
    "from sklearn.metrics import confusion_matrix\n",
    "confusion_matrix(np.asarray(actual),t_pred)\n",
    "                    "
   ]
  },
  {
   "cell_type": "code",
   "execution_count": 68,
   "metadata": {
    "collapsed": false
   },
   "outputs": [],
   "source": [
    "from sklearn.metrics import roc_curve, auc\n",
    "import matplotlib.pyplot as plt\n",
    "import random\n",
    "\n",
    "actual = np.asarray(actual)\n",
    "predictions =[clf.predict(np.asarray(X)[i]) for i in range(len(X))]\n",
    "false_positive_rate, true_positive_rate, thresholds = roc_curve(actual, predictions)\n",
    "roc_auc = auc(false_positive_rate, true_positive_rate)"
   ]
  },
  {
   "cell_type": "code",
   "execution_count": 70,
   "metadata": {
    "collapsed": false
   },
   "outputs": [
    {
     "data": {
      "image/png": "[encoded data removed]",
      "text/plain": [
       "<matplotlib.figure.Figure at 0x18d93f28>"
      ]
     },
     "metadata": {},
     "output_type": "display_data"
    }
   ],
   "source": [
    "plt.title('ROC')\n",
    "plt.plot(false_positive_rate, true_positive_rate, 'b',\n",
    "label='AUC = %0.2f'% roc_auc)\n",
    "plt.legend(loc='lower right')\n",
    "plt.plot([0,1],[0,1],'r--')\n",
    "plt.xlim([-0.1,1.2])\n",
    "plt.ylim([-0.1,1.2])\n",
    "plt.ylabel('TPR')\n",
    "plt.xlabel('FPR')\n",
    "plt.show()"
   ]
  },
  {
   "cell_type": "code",
   "execution_count": null,
   "metadata": {
    "collapsed": true
   },
   "outputs": [],
   "source": []
  },
  {
   "cell_type": "code",
   "execution_count": null,
   "metadata": {
    "collapsed": true
   },
   "outputs": [],
   "source": []
  }
 ],
 "metadata": {
  "kernelspec": {
   "display_name": "Python 2",
   "language": "python",
   "name": "python2"
  },
  "language_info": {
   "codemirror_mode": {
    "name": "ipython",
    "version": 2
   },
   "file_extension": ".py",
   "mimetype": "text/x-python",
   "name": "python",
   "nbconvert_exporter": "python",
   "pygments_lexer": "ipython2",
   "version": "2.7.10"
  }
 },
 "nbformat": 4,
 "nbformat_minor": 0
}
